{
  "nbformat": 4,
  "nbformat_minor": 0,
  "metadata": {
    "colab": {
      "name": "Project1.ipynb",
      "provenance": [],
      "toc_visible": true,
      "authorship_tag": "ABX9TyPpVfe7UpphxHe3zqzXeZU7",
      "include_colab_link": true
    },
    "kernelspec": {
      "name": "python3",
      "display_name": "Python 3"
    },
    "language_info": {
      "name": "python"
    }
  },
  "cells": [
    {
      "cell_type": "markdown",
      "metadata": {
        "id": "view-in-github",
        "colab_type": "text"
      },
      "source": [
        "<a href=\"https://colab.research.google.com/github/isabelapt/covid19-analysis/blob/main/Project1.ipynb\" target=\"_parent\"><img src=\"https://colab.research.google.com/assets/colab-badge.svg\" alt=\"Open In Colab\"/></a>"
      ]
    },
    {
      "cell_type": "markdown",
      "metadata": {
        "id": "83oxlitIh3Me"
      },
      "source": [
        "# PROJECT 1 - Bootcamp Data Science Aplicada\n",
        "\n",
        "***\n",
        "\n",
        "Author: Isabela Pamplona Trindade\\\n",
        "Email: isabelaptrindade@gmail.com"
      ]
    },
    {
      "cell_type": "markdown",
      "metadata": {
        "id": "Wn5PQt7Riiwn"
      },
      "source": [
        "## Analysis Context\n",
        "\n",
        "On January 26, 2020, Brazil registered your [first case of covid](https://agenciabrasil.ebc.com.br/saude/noticia/2021-02/primeiro-caso-de-covid-19-no-brasil-completa-um-ano), a citizen of São Paulo who had traveled to Italy.\n",
        "\n",
        "Because it is a disease that is transmitted by a virus, in which it needs a host, a human being. It is important to analyze the occurrences of nearby states geographically. If the movement of people between the state borders is significant, a group of infected people can transmit the virus from that region, increasing the number of cases and possibly the number of hospitalizations.\n",
        "\n",
        "\n",
        "\n",
        "\n",
        "\n",
        "\n"
      ]
    },
    {
      "cell_type": "markdown",
      "metadata": {
        "id": "J-Kc0Hw3A6pp"
      },
      "source": [
        "## Describing Datasets\n",
        "\n",
        "1.   **HOSPITALIZATIONS DUE COVID 19**\\\n",
        "Procedimentos hospitalares do SUS - por local de internação - Brasil\\\n",
        "Internações por Região/Unidade da Federação e Ano/mês processamento\\\n",
        "Procedimento: 0303010223 TRATAMENTO DE INFECÇÃO PELO CORONAVIRUS – COVID 19\\\n",
        "Período:Jan/2008-Mar/2021\\\n",
        "SOURCE: [TABNET](http://tabnet.datasus.gov.br/cgi/deftohtm.exe?sih/cnv/qiuf.def)\n",
        "\n",
        "2.   **ESTIMATED POPULATION in BRAZIL**\\\n",
        "SOURCE: [SIDRA](https://sidra.ibge.gov.br/tabela/6579)\\\n",
        "Download from [Github](https://raw.githubusercontent.com/isabelapt/Bootcamp_Data_Science_Alura/main/data/tabela6579.csv)\n",
        "\n"
      ]
    },
    {
      "cell_type": "markdown",
      "metadata": {
        "id": "o4gM2cPfjJWf"
      },
      "source": [
        "## Importing libraries"
      ]
    },
    {
      "cell_type": "code",
      "metadata": {
        "id": "BE8cdFAgjMwV"
      },
      "source": [
        "import pandas as pd\n",
        "import numpy as np\n",
        "import matplotlib.pyplot as plt\n",
        "import matplotlib.ticker as ticker"
      ],
      "execution_count": 649,
      "outputs": []
    },
    {
      "cell_type": "markdown",
      "metadata": {
        "id": "6IBgmuzj_SIh"
      },
      "source": [
        "## Reading datasets from Github"
      ]
    },
    {
      "cell_type": "markdown",
      "metadata": {
        "id": "nFw5Iu5mU7o0"
      },
      "source": [
        "### HOSPITALIZATION DUE COVID19\n",
        "\n",
        "* The first period of time is 2020/April and the last period is 2021/March.\n",
        "* It is avaiable the total of hospital internment due COVID19 along the entire period (2020/April - 2021/March) per federation unit. \n",
        "* Also, it is avaiable the total of hospital internment due COVID19 cases of all federation units per period of time.\n",
        "* '-' ==>  Numerical data not available.\n"
      ]
    },
    {
      "cell_type": "code",
      "metadata": {
        "colab": {
          "base_uri": "https://localhost:8080/"
        },
        "id": "umW9MdAv_Vte",
        "outputId": "46df756b-d117-43e4-f930-160aa43cd44e"
      },
      "source": [
        "URI = \"https://raw.githubusercontent.com/isabelapt/covid19-analysis/main/data/A132713189_28_143_208.csv\"\n",
        "covid19_data = pd.read_csv(URI, encoding=\"ISO-8859-1\", skiprows = 4, skipfooter=11, sep=\";\",                     \n",
        "                    thousands=\".\", decimal=\",\", engine='python')\n",
        "print(covid19_data.head(5))\n",
        "print(covid19_data.tail(5))\n",
        "print(covid19_data.info)"
      ],
      "execution_count": 650,
      "outputs": [
        {
          "output_type": "stream",
          "text": [
            "  Unidade da Federação 2020/Abr  2020/Mai  ...  2021/Fev  2021/Mar  Total\n",
            "0          11 Rondônia       47       329  ...       898      1232   7975\n",
            "1              12 Acre        2        27  ...       428       457   2657\n",
            "2          13 Amazonas      202      1845  ...      3851      4137  24428\n",
            "3           14 Roraima        2       252  ...       635       600   3234\n",
            "4              15 Pará      110      2159  ...      1986      2750  25810\n",
            "\n",
            "[5 rows x 14 columns]\n",
            "     Unidade da Federação 2020/Abr  2020/Mai  ...  2021/Fev  2021/Mar   Total\n",
            "23  50 Mato Grosso do Sul        4        18  ...      1028      1533    8184\n",
            "24         51 Mato Grosso        7        58  ...      1412      2110   14626\n",
            "25               52 Goiás        7       104  ...      2698      3775   25184\n",
            "26    53 Distrito Federal       45       390  ...      1004      2247   13603\n",
            "27                  Total     4135     33075  ...     74193    123346  739382\n",
            "\n",
            "[5 rows x 14 columns]\n",
            "<bound method DataFrame.info of       Unidade da Federação 2020/Abr  2020/Mai  ...  2021/Fev  2021/Mar   Total\n",
            "0              11 Rondônia       47       329  ...       898      1232    7975\n",
            "1                  12 Acre        2        27  ...       428       457    2657\n",
            "2              13 Amazonas      202      1845  ...      3851      4137   24428\n",
            "3               14 Roraima        2       252  ...       635       600    3234\n",
            "4                  15 Pará      110      2159  ...      1986      2750   25810\n",
            "5                 16 Amapá       17       241  ...       277       565    3589\n",
            "6             17 Tocantins        6        79  ...        83       283    3088\n",
            "7              21 Maranhão       98      2623  ...      1659      3705   25929\n",
            "8                 22 Piauí       29       298  ...       912      1665   13980\n",
            "9                 23 Ceará      257      2377  ...      2151      5341   32335\n",
            "10  24 Rio Grande do Norte       29       309  ...       847      1145    9403\n",
            "11              25 Paraíba       37       232  ...       834      1790    9718\n",
            "12           26 Pernambuco      415      3490  ...      3791      5523   43633\n",
            "13              27 Alagoas        1       111  ...       709      1419    8070\n",
            "14              28 Sergipe        -        56  ...       676       959    6234\n",
            "15                29 Bahia      119       829  ...      3518      5244   30878\n",
            "16         31 Minas Gerais       97       578  ...      8097     13604   64356\n",
            "17       32 Espírito Santo       28       661  ...      1597      2062   16330\n",
            "18       33 Rio de Janeiro      850      4538  ...      4885      6987   57754\n",
            "19            35 São Paulo     1405      9959  ...     16125     27467  172106\n",
            "20               41 Paraná      139       389  ...      5557      9236   42488\n",
            "21       42 Santa Catarina       62       335  ...      3253      5806   26384\n",
            "22    43 Rio Grande do Sul      120       788  ...      5282     11704   47406\n",
            "23   50 Mato Grosso do Sul        4        18  ...      1028      1533    8184\n",
            "24          51 Mato Grosso        7        58  ...      1412      2110   14626\n",
            "25                52 Goiás        7       104  ...      2698      3775   25184\n",
            "26     53 Distrito Federal       45       390  ...      1004      2247   13603\n",
            "27                   Total     4135     33075  ...     74193    123346  739382\n",
            "\n",
            "[28 rows x 14 columns]>\n"
          ],
          "name": "stdout"
        }
      ]
    },
    {
      "cell_type": "markdown",
      "metadata": {
        "id": "g-FvZsEzVRs6"
      },
      "source": [
        "### POPULATION"
      ]
    },
    {
      "cell_type": "code",
      "metadata": {
        "colab": {
          "base_uri": "https://localhost:8080/"
        },
        "id": "bU3xMEytAUXm",
        "outputId": "310e7425-5c87-42d5-f7a1-eab41be4f8ba"
      },
      "source": [
        "URI = \"https://raw.githubusercontent.com/isabelapt/Bootcamp_Data_Science_Alura/main/data/tabela6579.csv\"\n",
        "population_data = pd.read_csv(URI, skiprows = 3, skipfooter=92, sep=\";\",                     \n",
        "                    thousands=\".\", decimal=\",\", engine='python')\n",
        "population_data = population_data.set_index('Brasil, Grande Região e Unidade da Federação')\n",
        "population_data_2020 = population_data[\"2020\"]\n",
        "population_data_2020"
      ],
      "execution_count": 651,
      "outputs": [
        {
          "output_type": "execute_result",
          "data": {
            "text/plain": [
              "Brasil, Grande Região e Unidade da Federação\n",
              "Brasil                 211755692\n",
              "Norte                   18672591\n",
              "Nordeste                57374243\n",
              "Sudeste                 89012240\n",
              "Sul                     30192315\n",
              "Centro-Oeste            16504303\n",
              "Rondônia                 1796460\n",
              "Acre                      894470\n",
              "Amazonas                 4207714\n",
              "Roraima                   631181\n",
              "Pará                     8690745\n",
              "Amapá                     861773\n",
              "Tocantins                1590248\n",
              "Maranhão                 7114598\n",
              "Piauí                    3281480\n",
              "Ceará                    9187103\n",
              "Rio Grande do Norte      3534165\n",
              "Paraíba                  4039277\n",
              "Pernambuco               9616621\n",
              "Alagoas                  3351543\n",
              "Sergipe                  2318822\n",
              "Bahia                   14930634\n",
              "Minas Gerais            21292666\n",
              "Espírito Santo           4064052\n",
              "Rio de Janeiro          17366189\n",
              "São Paulo               46289333\n",
              "Paraná                  11516840\n",
              "Santa Catarina           7252502\n",
              "Rio Grande do Sul       11422973\n",
              "Mato Grosso do Sul       2809394\n",
              "Mato Grosso              3526220\n",
              "Goiás                    7113540\n",
              "Distrito Federal         3055149\n",
              "Name: 2020, dtype: int64"
            ]
          },
          "metadata": {
            "tags": []
          },
          "execution_count": 651
        }
      ]
    },
    {
      "cell_type": "markdown",
      "metadata": {
        "id": "DM2xGaOiFQQP"
      },
      "source": [
        "## Exploring the datasets\n"
      ]
    },
    {
      "cell_type": "markdown",
      "metadata": {
        "id": "vMpANTC9VHzy"
      },
      "source": [
        "***Dictionary used to classify by region***"
      ]
    },
    {
      "cell_type": "code",
      "metadata": {
        "id": "IcxToVS1U3RP"
      },
      "source": [
        "dict_region = {\"1\":\"Norte\",\n",
        "               \"2\":\"Nordeste\",\n",
        "               \"3\":\"Sudeste\",\n",
        "               \"4\":\"Sul\",\n",
        "               \"5\":\"Centro-Oeste\",\n",
        "               \"T\": \"NA\"}"
      ],
      "execution_count": 652,
      "outputs": []
    },
    {
      "cell_type": "markdown",
      "metadata": {
        "id": "-poKLg-MBztF"
      },
      "source": [
        "###COVID19\n",
        "* Set a new index as the \"Unidade da Federação\"\n",
        "* Replace '-' by 0 number to convert all the column to int type not object type\n",
        "* Replace 0 by NaN\n",
        "* Classify the UF per region, creating column \"Região\"\n",
        "* Analyze the growth of hospitalizations from 2021/Jan to 2021/Mar by each state"
      ]
    },
    {
      "cell_type": "code",
      "metadata": {
        "id": "vv0HnVZEFf6M"
      },
      "source": [
        "covid19_data = covid19_data.set_index(\"Unidade da Federação\")"
      ],
      "execution_count": 653,
      "outputs": []
    },
    {
      "cell_type": "code",
      "metadata": {
        "colab": {
          "base_uri": "https://localhost:8080/"
        },
        "id": "pDKhIW-RiPRf",
        "outputId": "617f0bd0-8678-4d7d-a36b-43701a048036"
      },
      "source": [
        "covid19_data = covid19_data.replace('-',0)\n",
        "covid19_data = covid19_data.astype('int64')\n",
        "covid19_data = covid19_data.replace(0,np.nan)\n",
        "\n",
        "# covid19_data[\"2020/Abr\"] is float64 because of NaN\n",
        "pd.options.display.float_format = \"{:.0f}\".format # Display w/o decimals\n",
        "covid19_data.info()"
      ],
      "execution_count": 654,
      "outputs": [
        {
          "output_type": "stream",
          "text": [
            "<class 'pandas.core.frame.DataFrame'>\n",
            "Index: 28 entries, 11 Rondônia to Total\n",
            "Data columns (total 13 columns):\n",
            " #   Column    Non-Null Count  Dtype  \n",
            "---  ------    --------------  -----  \n",
            " 0   2020/Abr  27 non-null     float64\n",
            " 1   2020/Mai  28 non-null     int64  \n",
            " 2   2020/Jun  28 non-null     int64  \n",
            " 3   2020/Jul  28 non-null     int64  \n",
            " 4   2020/Ago  28 non-null     int64  \n",
            " 5   2020/Set  28 non-null     int64  \n",
            " 6   2020/Out  28 non-null     int64  \n",
            " 7   2020/Nov  28 non-null     int64  \n",
            " 8   2020/Dez  28 non-null     int64  \n",
            " 9   2021/Jan  28 non-null     int64  \n",
            " 10  2021/Fev  28 non-null     int64  \n",
            " 11  2021/Mar  28 non-null     int64  \n",
            " 12  Total     28 non-null     int64  \n",
            "dtypes: float64(1), int64(12)\n",
            "memory usage: 3.1+ KB\n"
          ],
          "name": "stdout"
        }
      ]
    },
    {
      "cell_type": "code",
      "metadata": {
        "colab": {
          "base_uri": "https://localhost:8080/",
          "height": 1000
        },
        "id": "3gLgwPWDIkqq",
        "outputId": "eeae3941-37f4-490a-f0a4-7d323d1f37e5"
      },
      "source": [
        "region = [dict_region[idx[0]] for idx in covid19_data.index]\n",
        "\n",
        "# Insert the data as the last column\n",
        "covid19_data[\"Região\"] = region\n",
        "\n",
        "# Move Região Column to the be the first one\n",
        "col = covid19_data.pop(\"Região\")\n",
        "covid19_data.insert(0,col.name, col)\n",
        "covid19_data"
      ],
      "execution_count": 655,
      "outputs": [
        {
          "output_type": "execute_result",
          "data": {
            "text/html": [
              "<div>\n",
              "<style scoped>\n",
              "    .dataframe tbody tr th:only-of-type {\n",
              "        vertical-align: middle;\n",
              "    }\n",
              "\n",
              "    .dataframe tbody tr th {\n",
              "        vertical-align: top;\n",
              "    }\n",
              "\n",
              "    .dataframe thead th {\n",
              "        text-align: right;\n",
              "    }\n",
              "</style>\n",
              "<table border=\"1\" class=\"dataframe\">\n",
              "  <thead>\n",
              "    <tr style=\"text-align: right;\">\n",
              "      <th></th>\n",
              "      <th>Região</th>\n",
              "      <th>2020/Abr</th>\n",
              "      <th>2020/Mai</th>\n",
              "      <th>2020/Jun</th>\n",
              "      <th>2020/Jul</th>\n",
              "      <th>2020/Ago</th>\n",
              "      <th>2020/Set</th>\n",
              "      <th>2020/Out</th>\n",
              "      <th>2020/Nov</th>\n",
              "      <th>2020/Dez</th>\n",
              "      <th>2021/Jan</th>\n",
              "      <th>2021/Fev</th>\n",
              "      <th>2021/Mar</th>\n",
              "      <th>Total</th>\n",
              "    </tr>\n",
              "    <tr>\n",
              "      <th>Unidade da Federação</th>\n",
              "      <th></th>\n",
              "      <th></th>\n",
              "      <th></th>\n",
              "      <th></th>\n",
              "      <th></th>\n",
              "      <th></th>\n",
              "      <th></th>\n",
              "      <th></th>\n",
              "      <th></th>\n",
              "      <th></th>\n",
              "      <th></th>\n",
              "      <th></th>\n",
              "      <th></th>\n",
              "      <th></th>\n",
              "    </tr>\n",
              "  </thead>\n",
              "  <tbody>\n",
              "    <tr>\n",
              "      <th>11 Rondônia</th>\n",
              "      <td>Norte</td>\n",
              "      <td>47</td>\n",
              "      <td>329</td>\n",
              "      <td>761</td>\n",
              "      <td>932</td>\n",
              "      <td>1012</td>\n",
              "      <td>709</td>\n",
              "      <td>366</td>\n",
              "      <td>315</td>\n",
              "      <td>483</td>\n",
              "      <td>891</td>\n",
              "      <td>898</td>\n",
              "      <td>1232</td>\n",
              "      <td>7975</td>\n",
              "    </tr>\n",
              "    <tr>\n",
              "      <th>12 Acre</th>\n",
              "      <td>Norte</td>\n",
              "      <td>2</td>\n",
              "      <td>27</td>\n",
              "      <td>224</td>\n",
              "      <td>296</td>\n",
              "      <td>262</td>\n",
              "      <td>175</td>\n",
              "      <td>200</td>\n",
              "      <td>153</td>\n",
              "      <td>227</td>\n",
              "      <td>206</td>\n",
              "      <td>428</td>\n",
              "      <td>457</td>\n",
              "      <td>2657</td>\n",
              "    </tr>\n",
              "    <tr>\n",
              "      <th>13 Amazonas</th>\n",
              "      <td>Norte</td>\n",
              "      <td>202</td>\n",
              "      <td>1845</td>\n",
              "      <td>3028</td>\n",
              "      <td>1929</td>\n",
              "      <td>1192</td>\n",
              "      <td>1305</td>\n",
              "      <td>1287</td>\n",
              "      <td>1574</td>\n",
              "      <td>1318</td>\n",
              "      <td>2760</td>\n",
              "      <td>3851</td>\n",
              "      <td>4137</td>\n",
              "      <td>24428</td>\n",
              "    </tr>\n",
              "    <tr>\n",
              "      <th>14 Roraima</th>\n",
              "      <td>Norte</td>\n",
              "      <td>2</td>\n",
              "      <td>252</td>\n",
              "      <td>497</td>\n",
              "      <td>283</td>\n",
              "      <td>158</td>\n",
              "      <td>114</td>\n",
              "      <td>89</td>\n",
              "      <td>123</td>\n",
              "      <td>181</td>\n",
              "      <td>300</td>\n",
              "      <td>635</td>\n",
              "      <td>600</td>\n",
              "      <td>3234</td>\n",
              "    </tr>\n",
              "    <tr>\n",
              "      <th>15 Pará</th>\n",
              "      <td>Norte</td>\n",
              "      <td>110</td>\n",
              "      <td>2159</td>\n",
              "      <td>4774</td>\n",
              "      <td>3375</td>\n",
              "      <td>3768</td>\n",
              "      <td>1994</td>\n",
              "      <td>1143</td>\n",
              "      <td>870</td>\n",
              "      <td>1079</td>\n",
              "      <td>1802</td>\n",
              "      <td>1986</td>\n",
              "      <td>2750</td>\n",
              "      <td>25810</td>\n",
              "    </tr>\n",
              "    <tr>\n",
              "      <th>16 Amapá</th>\n",
              "      <td>Norte</td>\n",
              "      <td>17</td>\n",
              "      <td>241</td>\n",
              "      <td>374</td>\n",
              "      <td>517</td>\n",
              "      <td>341</td>\n",
              "      <td>176</td>\n",
              "      <td>155</td>\n",
              "      <td>188</td>\n",
              "      <td>409</td>\n",
              "      <td>329</td>\n",
              "      <td>277</td>\n",
              "      <td>565</td>\n",
              "      <td>3589</td>\n",
              "    </tr>\n",
              "    <tr>\n",
              "      <th>17 Tocantins</th>\n",
              "      <td>Norte</td>\n",
              "      <td>6</td>\n",
              "      <td>79</td>\n",
              "      <td>200</td>\n",
              "      <td>469</td>\n",
              "      <td>684</td>\n",
              "      <td>626</td>\n",
              "      <td>448</td>\n",
              "      <td>71</td>\n",
              "      <td>85</td>\n",
              "      <td>54</td>\n",
              "      <td>83</td>\n",
              "      <td>283</td>\n",
              "      <td>3088</td>\n",
              "    </tr>\n",
              "    <tr>\n",
              "      <th>21 Maranhão</th>\n",
              "      <td>Nordeste</td>\n",
              "      <td>98</td>\n",
              "      <td>2623</td>\n",
              "      <td>4322</td>\n",
              "      <td>3535</td>\n",
              "      <td>2744</td>\n",
              "      <td>1751</td>\n",
              "      <td>1727</td>\n",
              "      <td>1289</td>\n",
              "      <td>1022</td>\n",
              "      <td>1454</td>\n",
              "      <td>1659</td>\n",
              "      <td>3705</td>\n",
              "      <td>25929</td>\n",
              "    </tr>\n",
              "    <tr>\n",
              "      <th>22 Piauí</th>\n",
              "      <td>Nordeste</td>\n",
              "      <td>29</td>\n",
              "      <td>298</td>\n",
              "      <td>865</td>\n",
              "      <td>1801</td>\n",
              "      <td>2313</td>\n",
              "      <td>1506</td>\n",
              "      <td>1284</td>\n",
              "      <td>1023</td>\n",
              "      <td>1037</td>\n",
              "      <td>1247</td>\n",
              "      <td>912</td>\n",
              "      <td>1665</td>\n",
              "      <td>13980</td>\n",
              "    </tr>\n",
              "    <tr>\n",
              "      <th>23 Ceará</th>\n",
              "      <td>Nordeste</td>\n",
              "      <td>257</td>\n",
              "      <td>2377</td>\n",
              "      <td>5081</td>\n",
              "      <td>4092</td>\n",
              "      <td>4002</td>\n",
              "      <td>2489</td>\n",
              "      <td>1960</td>\n",
              "      <td>1667</td>\n",
              "      <td>1405</td>\n",
              "      <td>1513</td>\n",
              "      <td>2151</td>\n",
              "      <td>5341</td>\n",
              "      <td>32335</td>\n",
              "    </tr>\n",
              "    <tr>\n",
              "      <th>24 Rio Grande do Norte</th>\n",
              "      <td>Nordeste</td>\n",
              "      <td>29</td>\n",
              "      <td>309</td>\n",
              "      <td>970</td>\n",
              "      <td>1213</td>\n",
              "      <td>1070</td>\n",
              "      <td>910</td>\n",
              "      <td>715</td>\n",
              "      <td>599</td>\n",
              "      <td>685</td>\n",
              "      <td>911</td>\n",
              "      <td>847</td>\n",
              "      <td>1145</td>\n",
              "      <td>9403</td>\n",
              "    </tr>\n",
              "    <tr>\n",
              "      <th>25 Paraíba</th>\n",
              "      <td>Nordeste</td>\n",
              "      <td>37</td>\n",
              "      <td>232</td>\n",
              "      <td>824</td>\n",
              "      <td>1633</td>\n",
              "      <td>940</td>\n",
              "      <td>768</td>\n",
              "      <td>671</td>\n",
              "      <td>448</td>\n",
              "      <td>664</td>\n",
              "      <td>877</td>\n",
              "      <td>834</td>\n",
              "      <td>1790</td>\n",
              "      <td>9718</td>\n",
              "    </tr>\n",
              "    <tr>\n",
              "      <th>26 Pernambuco</th>\n",
              "      <td>Nordeste</td>\n",
              "      <td>415</td>\n",
              "      <td>3490</td>\n",
              "      <td>4785</td>\n",
              "      <td>5704</td>\n",
              "      <td>4266</td>\n",
              "      <td>3059</td>\n",
              "      <td>1469</td>\n",
              "      <td>3602</td>\n",
              "      <td>3411</td>\n",
              "      <td>4118</td>\n",
              "      <td>3791</td>\n",
              "      <td>5523</td>\n",
              "      <td>43633</td>\n",
              "    </tr>\n",
              "    <tr>\n",
              "      <th>27 Alagoas</th>\n",
              "      <td>Nordeste</td>\n",
              "      <td>1</td>\n",
              "      <td>111</td>\n",
              "      <td>680</td>\n",
              "      <td>1033</td>\n",
              "      <td>1527</td>\n",
              "      <td>728</td>\n",
              "      <td>545</td>\n",
              "      <td>372</td>\n",
              "      <td>358</td>\n",
              "      <td>587</td>\n",
              "      <td>709</td>\n",
              "      <td>1419</td>\n",
              "      <td>8070</td>\n",
              "    </tr>\n",
              "    <tr>\n",
              "      <th>28 Sergipe</th>\n",
              "      <td>Nordeste</td>\n",
              "      <td>nan</td>\n",
              "      <td>56</td>\n",
              "      <td>227</td>\n",
              "      <td>605</td>\n",
              "      <td>856</td>\n",
              "      <td>943</td>\n",
              "      <td>618</td>\n",
              "      <td>407</td>\n",
              "      <td>392</td>\n",
              "      <td>495</td>\n",
              "      <td>676</td>\n",
              "      <td>959</td>\n",
              "      <td>6234</td>\n",
              "    </tr>\n",
              "    <tr>\n",
              "      <th>29 Bahia</th>\n",
              "      <td>Nordeste</td>\n",
              "      <td>119</td>\n",
              "      <td>829</td>\n",
              "      <td>2067</td>\n",
              "      <td>3202</td>\n",
              "      <td>3302</td>\n",
              "      <td>2886</td>\n",
              "      <td>2062</td>\n",
              "      <td>1985</td>\n",
              "      <td>2920</td>\n",
              "      <td>2744</td>\n",
              "      <td>3518</td>\n",
              "      <td>5244</td>\n",
              "      <td>30878</td>\n",
              "    </tr>\n",
              "    <tr>\n",
              "      <th>31 Minas Gerais</th>\n",
              "      <td>Sudeste</td>\n",
              "      <td>97</td>\n",
              "      <td>578</td>\n",
              "      <td>1896</td>\n",
              "      <td>5091</td>\n",
              "      <td>6249</td>\n",
              "      <td>5878</td>\n",
              "      <td>5036</td>\n",
              "      <td>4124</td>\n",
              "      <td>5938</td>\n",
              "      <td>7768</td>\n",
              "      <td>8097</td>\n",
              "      <td>13604</td>\n",
              "      <td>64356</td>\n",
              "    </tr>\n",
              "    <tr>\n",
              "      <th>32 Espírito Santo</th>\n",
              "      <td>Sudeste</td>\n",
              "      <td>28</td>\n",
              "      <td>661</td>\n",
              "      <td>1314</td>\n",
              "      <td>2143</td>\n",
              "      <td>1678</td>\n",
              "      <td>1537</td>\n",
              "      <td>1211</td>\n",
              "      <td>1040</td>\n",
              "      <td>1373</td>\n",
              "      <td>1686</td>\n",
              "      <td>1597</td>\n",
              "      <td>2062</td>\n",
              "      <td>16330</td>\n",
              "    </tr>\n",
              "    <tr>\n",
              "      <th>33 Rio de Janeiro</th>\n",
              "      <td>Sudeste</td>\n",
              "      <td>850</td>\n",
              "      <td>4538</td>\n",
              "      <td>5470</td>\n",
              "      <td>5606</td>\n",
              "      <td>4545</td>\n",
              "      <td>3868</td>\n",
              "      <td>3479</td>\n",
              "      <td>4871</td>\n",
              "      <td>6349</td>\n",
              "      <td>6306</td>\n",
              "      <td>4885</td>\n",
              "      <td>6987</td>\n",
              "      <td>57754</td>\n",
              "    </tr>\n",
              "    <tr>\n",
              "      <th>35 São Paulo</th>\n",
              "      <td>Sudeste</td>\n",
              "      <td>1405</td>\n",
              "      <td>9959</td>\n",
              "      <td>14963</td>\n",
              "      <td>22926</td>\n",
              "      <td>17841</td>\n",
              "      <td>13470</td>\n",
              "      <td>11389</td>\n",
              "      <td>9037</td>\n",
              "      <td>11529</td>\n",
              "      <td>15995</td>\n",
              "      <td>16125</td>\n",
              "      <td>27467</td>\n",
              "      <td>172106</td>\n",
              "    </tr>\n",
              "    <tr>\n",
              "      <th>41 Paraná</th>\n",
              "      <td>Sul</td>\n",
              "      <td>139</td>\n",
              "      <td>389</td>\n",
              "      <td>1108</td>\n",
              "      <td>2664</td>\n",
              "      <td>3719</td>\n",
              "      <td>3562</td>\n",
              "      <td>3232</td>\n",
              "      <td>3119</td>\n",
              "      <td>4747</td>\n",
              "      <td>5016</td>\n",
              "      <td>5557</td>\n",
              "      <td>9236</td>\n",
              "      <td>42488</td>\n",
              "    </tr>\n",
              "    <tr>\n",
              "      <th>42 Santa Catarina</th>\n",
              "      <td>Sul</td>\n",
              "      <td>62</td>\n",
              "      <td>335</td>\n",
              "      <td>562</td>\n",
              "      <td>1798</td>\n",
              "      <td>2720</td>\n",
              "      <td>2384</td>\n",
              "      <td>1625</td>\n",
              "      <td>1939</td>\n",
              "      <td>3139</td>\n",
              "      <td>2761</td>\n",
              "      <td>3253</td>\n",
              "      <td>5806</td>\n",
              "      <td>26384</td>\n",
              "    </tr>\n",
              "    <tr>\n",
              "      <th>43 Rio Grande do Sul</th>\n",
              "      <td>Sul</td>\n",
              "      <td>120</td>\n",
              "      <td>788</td>\n",
              "      <td>1230</td>\n",
              "      <td>2879</td>\n",
              "      <td>3905</td>\n",
              "      <td>3897</td>\n",
              "      <td>3890</td>\n",
              "      <td>3642</td>\n",
              "      <td>4798</td>\n",
              "      <td>5271</td>\n",
              "      <td>5282</td>\n",
              "      <td>11704</td>\n",
              "      <td>47406</td>\n",
              "    </tr>\n",
              "    <tr>\n",
              "      <th>50 Mato Grosso do Sul</th>\n",
              "      <td>Centro-Oeste</td>\n",
              "      <td>4</td>\n",
              "      <td>18</td>\n",
              "      <td>96</td>\n",
              "      <td>261</td>\n",
              "      <td>680</td>\n",
              "      <td>998</td>\n",
              "      <td>1092</td>\n",
              "      <td>675</td>\n",
              "      <td>790</td>\n",
              "      <td>1009</td>\n",
              "      <td>1028</td>\n",
              "      <td>1533</td>\n",
              "      <td>8184</td>\n",
              "    </tr>\n",
              "    <tr>\n",
              "      <th>51 Mato Grosso</th>\n",
              "      <td>Centro-Oeste</td>\n",
              "      <td>7</td>\n",
              "      <td>58</td>\n",
              "      <td>482</td>\n",
              "      <td>1583</td>\n",
              "      <td>2147</td>\n",
              "      <td>1879</td>\n",
              "      <td>1599</td>\n",
              "      <td>1038</td>\n",
              "      <td>925</td>\n",
              "      <td>1386</td>\n",
              "      <td>1412</td>\n",
              "      <td>2110</td>\n",
              "      <td>14626</td>\n",
              "    </tr>\n",
              "    <tr>\n",
              "      <th>52 Goiás</th>\n",
              "      <td>Centro-Oeste</td>\n",
              "      <td>7</td>\n",
              "      <td>104</td>\n",
              "      <td>832</td>\n",
              "      <td>2092</td>\n",
              "      <td>3278</td>\n",
              "      <td>3040</td>\n",
              "      <td>2897</td>\n",
              "      <td>2135</td>\n",
              "      <td>2074</td>\n",
              "      <td>2252</td>\n",
              "      <td>2698</td>\n",
              "      <td>3775</td>\n",
              "      <td>25184</td>\n",
              "    </tr>\n",
              "    <tr>\n",
              "      <th>53 Distrito Federal</th>\n",
              "      <td>Centro-Oeste</td>\n",
              "      <td>45</td>\n",
              "      <td>390</td>\n",
              "      <td>1095</td>\n",
              "      <td>1721</td>\n",
              "      <td>2124</td>\n",
              "      <td>1144</td>\n",
              "      <td>1285</td>\n",
              "      <td>764</td>\n",
              "      <td>803</td>\n",
              "      <td>981</td>\n",
              "      <td>1004</td>\n",
              "      <td>2247</td>\n",
              "      <td>13603</td>\n",
              "    </tr>\n",
              "    <tr>\n",
              "      <th>Total</th>\n",
              "      <td>NA</td>\n",
              "      <td>4135</td>\n",
              "      <td>33075</td>\n",
              "      <td>58727</td>\n",
              "      <td>79383</td>\n",
              "      <td>77323</td>\n",
              "      <td>61796</td>\n",
              "      <td>51474</td>\n",
              "      <td>47070</td>\n",
              "      <td>58141</td>\n",
              "      <td>70719</td>\n",
              "      <td>74193</td>\n",
              "      <td>123346</td>\n",
              "      <td>739382</td>\n",
              "    </tr>\n",
              "  </tbody>\n",
              "</table>\n",
              "</div>"
            ],
            "text/plain": [
              "                              Região  2020/Abr  ...  2021/Mar   Total\n",
              "Unidade da Federação                            ...                  \n",
              "11 Rondônia                    Norte        47  ...      1232    7975\n",
              "12 Acre                        Norte         2  ...       457    2657\n",
              "13 Amazonas                    Norte       202  ...      4137   24428\n",
              "14 Roraima                     Norte         2  ...       600    3234\n",
              "15 Pará                        Norte       110  ...      2750   25810\n",
              "16 Amapá                       Norte        17  ...       565    3589\n",
              "17 Tocantins                   Norte         6  ...       283    3088\n",
              "21 Maranhão                 Nordeste        98  ...      3705   25929\n",
              "22 Piauí                    Nordeste        29  ...      1665   13980\n",
              "23 Ceará                    Nordeste       257  ...      5341   32335\n",
              "24 Rio Grande do Norte      Nordeste        29  ...      1145    9403\n",
              "25 Paraíba                  Nordeste        37  ...      1790    9718\n",
              "26 Pernambuco               Nordeste       415  ...      5523   43633\n",
              "27 Alagoas                  Nordeste         1  ...      1419    8070\n",
              "28 Sergipe                  Nordeste       nan  ...       959    6234\n",
              "29 Bahia                    Nordeste       119  ...      5244   30878\n",
              "31 Minas Gerais              Sudeste        97  ...     13604   64356\n",
              "32 Espírito Santo            Sudeste        28  ...      2062   16330\n",
              "33 Rio de Janeiro            Sudeste       850  ...      6987   57754\n",
              "35 São Paulo                 Sudeste      1405  ...     27467  172106\n",
              "41 Paraná                        Sul       139  ...      9236   42488\n",
              "42 Santa Catarina                Sul        62  ...      5806   26384\n",
              "43 Rio Grande do Sul             Sul       120  ...     11704   47406\n",
              "50 Mato Grosso do Sul   Centro-Oeste         4  ...      1533    8184\n",
              "51 Mato Grosso          Centro-Oeste         7  ...      2110   14626\n",
              "52 Goiás                Centro-Oeste         7  ...      3775   25184\n",
              "53 Distrito Federal     Centro-Oeste        45  ...      2247   13603\n",
              "Total                             NA      4135  ...    123346  739382\n",
              "\n",
              "[28 rows x 14 columns]"
            ]
          },
          "metadata": {
            "tags": []
          },
          "execution_count": 655
        }
      ]
    },
    {
      "cell_type": "markdown",
      "metadata": {
        "id": "QL6OorpSzwC3"
      },
      "source": [
        "**Total of hospital internment due COVID19 along the entire period (2020/April - 2021/March)**"
      ]
    },
    {
      "cell_type": "code",
      "metadata": {
        "id": "1Ny58osOzY1u"
      },
      "source": [
        "covid19_data_total = covid19_data[\"Total\"][\"Total\"]"
      ],
      "execution_count": 656,
      "outputs": []
    },
    {
      "cell_type": "markdown",
      "metadata": {
        "id": "FrLQ4cnz1pmE"
      },
      "source": [
        "**ANALYSIS BY REGION**"
      ]
    },
    {
      "cell_type": "code",
      "metadata": {
        "id": "xht2h9j6wulI"
      },
      "source": [
        "# Grouping and Summing by region\n",
        "covid19_data_region = covid19_data[0:27].groupby('Região').sum()\n",
        "covid19_data_total_sortebyRegion = covid19_data_region.sort_values(\"Total\",axis=0,ascending=False)\n",
        "\n",
        "# Find Percentage of each region to the total\n",
        "temp = (covid19_data_region[\"Total\"]/covid19_data_total)*100\n",
        "covid19_data_region_percentage = temp.sort_values(ascending=False)"
      ],
      "execution_count": 657,
      "outputs": []
    },
    {
      "cell_type": "markdown",
      "metadata": {
        "id": "c1puzrrMn165"
      },
      "source": [
        "**SORT VALUES BASES ON THE TOTAL OF EACH UF**"
      ]
    },
    {
      "cell_type": "code",
      "metadata": {
        "colab": {
          "base_uri": "https://localhost:8080/"
        },
        "id": "SjCezi2vQT-l",
        "outputId": "a22f71e2-3370-4761-d157-01838fb42de4"
      },
      "source": [
        "covid19_data_sorted_totalbyUF = covid19_data.iloc[0:28,1:].sort_values(\"Total\",axis=0,ascending=False,\n",
        "                                                                      na_position = 'last')\n",
        "\n",
        "covid19_data_totalUF = covid19_data_sorted_totalbyUF.loc[:,\"Total\"]\n",
        "\n",
        "# Drop Total from DataFrames\n",
        "covid19_data_sorted_totalbyUF = covid19_data_sorted_totalbyUF.drop(\"Total\", axis = 1)\n",
        "covid19_data_sorted_totalbyUF = covid19_data_sorted_totalbyUF.drop(\"Total\", axis = 0)\n",
        "\n",
        "# Values in Percentage\n",
        "covid19_data_totalbyUF_percentage = (covid19_data_totalUF/covid19_data_total)*100\n",
        "covid19_data_totalbyUF_percentage.head()"
      ],
      "execution_count": 658,
      "outputs": [
        {
          "output_type": "execute_result",
          "data": {
            "text/plain": [
              "Unidade da Federação\n",
              "Total                  100\n",
              "35 São Paulo            23\n",
              "31 Minas Gerais          9\n",
              "33 Rio de Janeiro        8\n",
              "43 Rio Grande do Sul     6\n",
              "Name: Total, dtype: float64"
            ]
          },
          "metadata": {
            "tags": []
          },
          "execution_count": 658
        }
      ]
    },
    {
      "cell_type": "markdown",
      "metadata": {
        "id": "4sAVStqAoRV-"
      },
      "source": [
        "**SORT THE VALUES BASED ON THE TOTAL OF EACH PERIOD**"
      ]
    },
    {
      "cell_type": "code",
      "metadata": {
        "id": "PrsjHIipoQKp"
      },
      "source": [
        "covid19_data_sorted_totalbyPeriod = covid19_data.iloc[:,1:14].sort_values(\"Total\",axis=1,ascending=False,\n",
        "                                                                          na_position = 'last') \n",
        "\n",
        "# Drop Total from DataFrames\n",
        "covid19_data_sorted_totalbyPeriod = covid19_data_sorted_totalbyPeriod.drop(\"Total\", axis = 0)\n",
        "covid19_data_sorted_totalbyPeriod = covid19_data_sorted_totalbyPeriod.drop(\"Total\", axis = 1)\n",
        "covid19_data_sorted_totalbyPeriod.head()\n",
        "\n",
        "# Values in Percentage\n",
        "covid19_data_totalPeriod_percentage = (covid19_data.loc[\"Total\",\"2020/Mai\":\"2021/Mar\"]/covid19_data_total)*100"
      ],
      "execution_count": 659,
      "outputs": []
    },
    {
      "cell_type": "code",
      "metadata": {
        "colab": {
          "base_uri": "https://localhost:8080/"
        },
        "id": "wknF86wQiAN7",
        "outputId": "05f75c6b-840c-4da9-d8cc-42117fe174b4"
      },
      "source": [
        "growth21_covid19_data =(covid19_data[\"2020/Mai\"]/covid19_data[\"2021/Mar\"])*100\n",
        "growth21_covid19_data_sorted = growth21_covid19_data.loc[\"11 Rondônia \":\"53 Distrito Federal\"].sort_values(ascending=False)\n",
        "growth21_covid19_data_sorted"
      ],
      "execution_count": 660,
      "outputs": [
        {
          "output_type": "execute_result",
          "data": {
            "text/plain": [
              "Unidade da Federação\n",
              "15 Pará                  79\n",
              "21 Maranhão              71\n",
              "33 Rio de Janeiro        65\n",
              "26 Pernambuco            63\n",
              "13 Amazonas              45\n",
              "23 Ceará                 45\n",
              "16 Amapá                 43\n",
              "14 Roraima               42\n",
              "35 São Paulo             36\n",
              "32 Espírito Santo        32\n",
              "17 Tocantins             28\n",
              "24 Rio Grande do Norte   27\n",
              "22 Piauí                 18\n",
              "53 Distrito Federal      17\n",
              "29 Bahia                 16\n",
              "25 Paraíba               13\n",
              "27 Alagoas                8\n",
              "43 Rio Grande do Sul      7\n",
              "12 Acre                   6\n",
              "28 Sergipe                6\n",
              "42 Santa Catarina         6\n",
              "31 Minas Gerais           4\n",
              "41 Paraná                 4\n",
              "52 Goiás                  3\n",
              "51 Mato Grosso            3\n",
              "50 Mato Grosso do Sul     1\n",
              "dtype: float64"
            ]
          },
          "metadata": {
            "tags": []
          },
          "execution_count": 660
        }
      ]
    },
    {
      "cell_type": "markdown",
      "metadata": {
        "id": "inJGsJRECDKj"
      },
      "source": [
        "###POPULATION 2020\n",
        "* Sort the total population by region\n",
        "* Sort the total population by UF"
      ]
    },
    {
      "cell_type": "code",
      "metadata": {
        "colab": {
          "base_uri": "https://localhost:8080/"
        },
        "id": "fmNx2tYiBvFS",
        "outputId": "10f90ec6-21e2-450c-b1be-49224bdb33c1"
      },
      "source": [
        "population_data_2020Region = population_data_2020.loc[\"Norte\":\"Centro-Oeste\"]\n",
        "population_data_2020_sortbyRegion = population_data_2020Region.sort_values(ascending=False)\n",
        "print(population_data_2020_sortbyRegion)\n",
        "\n",
        "population_data_2020UF = population_data_2020.loc[\"Rondônia\":\"Distrito Federal\"]\n",
        "population_data_2020_sortbyUF= population_data_2020UF.sort_values(ascending=False)\n",
        "print(population_data_2020_sortbyUF)"
      ],
      "execution_count": 661,
      "outputs": [
        {
          "output_type": "stream",
          "text": [
            "Brasil, Grande Região e Unidade da Federação\n",
            "Sudeste         89012240\n",
            "Nordeste        57374243\n",
            "Sul             30192315\n",
            "Norte           18672591\n",
            "Centro-Oeste    16504303\n",
            "Name: 2020, dtype: int64\n",
            "Brasil, Grande Região e Unidade da Federação\n",
            "São Paulo              46289333\n",
            "Minas Gerais           21292666\n",
            "Rio de Janeiro         17366189\n",
            "Bahia                  14930634\n",
            "Paraná                 11516840\n",
            "Rio Grande do Sul      11422973\n",
            "Pernambuco              9616621\n",
            "Ceará                   9187103\n",
            "Pará                    8690745\n",
            "Santa Catarina          7252502\n",
            "Maranhão                7114598\n",
            "Goiás                   7113540\n",
            "Amazonas                4207714\n",
            "Espírito Santo          4064052\n",
            "Paraíba                 4039277\n",
            "Rio Grande do Norte     3534165\n",
            "Mato Grosso             3526220\n",
            "Alagoas                 3351543\n",
            "Piauí                   3281480\n",
            "Distrito Federal        3055149\n",
            "Mato Grosso do Sul      2809394\n",
            "Sergipe                 2318822\n",
            "Rondônia                1796460\n",
            "Tocantins               1590248\n",
            "Acre                     894470\n",
            "Amapá                    861773\n",
            "Roraima                  631181\n",
            "Name: 2020, dtype: int64\n"
          ],
          "name": "stdout"
        }
      ]
    },
    {
      "cell_type": "markdown",
      "metadata": {
        "id": "U4hvnatcR5yo"
      },
      "source": [
        "## Visualizations"
      ]
    },
    {
      "cell_type": "markdown",
      "metadata": {
        "id": "03cF0kF6Il4J"
      },
      "source": [
        "### Percentage of hospital internment due COVID19 along 2020/Mai - 2021/March"
      ]
    },
    {
      "cell_type": "code",
      "metadata": {
        "colab": {
          "base_uri": "https://localhost:8080/",
          "height": 390
        },
        "id": "y63KcfGjG-O_",
        "outputId": "145fd34d-83e6-4184-fe0a-00f38c320657"
      },
      "source": [
        "ax = covid19_data_totalPeriod_percentage.iloc[0:12].plot(figsize = (12,6),kind='bar')\n",
        "\n",
        "# Draw grid lines with red color and dashed style\n",
        "plt.grid(color='gray', linestyle='-.', linewidth=0.5)\n",
        "\n",
        "# Muda o formato dos números mostrados no eixo y \n",
        "ax.yaxis.set_major_formatter(ticker.StrMethodFormatter(\"{x:,.0f}\"))\n",
        "\n",
        "ax.set_xticklabels(ax.get_xticklabels(), rotation = 0) \n",
        "\n",
        "plt.title(\"Percentage of hospital internment due COVID19 along 2020/Mai - 2021/March\")\n",
        "plt.show()"
      ],
      "execution_count": 663,
      "outputs": [
        {
          "output_type": "display_data",
          "data": {
            "image/png": "[encoded data removed]",
            "text/plain": [
              "<Figure size 864x432 with 1 Axes>"
            ]
          },
          "metadata": {
            "tags": [],
            "needs_background": "light"
          }
        }
      ]
    },
    {
      "cell_type": "markdown",
      "metadata": {
        "id": "y8JJewaiHrUk"
      },
      "source": [
        "***From the bar plot above, it is possible to see that 2021/Mar was the period in which there were more hospital internment due COVID19. It is likely that the anticipated vacations of schools were an aggravating factor for the large increase in hospitalizations in July and August.The same happened in 2021, due the the festivities at the end of the year.***"
      ]
    },
    {
      "cell_type": "markdown",
      "metadata": {
        "id": "XVM-q7Q4-LGa"
      },
      "source": [
        "### Total hospital internments due COVID19 along 2020/April - 2021/March in each region"
      ]
    },
    {
      "cell_type": "code",
      "metadata": {
        "colab": {
          "base_uri": "https://localhost:8080/",
          "height": 404
        },
        "id": "y1YLvI06rdN_",
        "outputId": "f52aab7d-5be9-46dd-9eb9-292171bb23e9"
      },
      "source": [
        "ax = covid19_data_total_sortebyRegion[\"Total\"].plot(figsize = (12,6),kind='bar')\n",
        "\n",
        "# Draw grid lines with red color and dashed style\n",
        "plt.grid(color='gray', linestyle='-.', linewidth=0.5)\n",
        "\n",
        "# Muda o formato dos números mostrados no eixo y \n",
        "ax.yaxis.set_major_formatter(ticker.StrMethodFormatter(\"{x:,.0f}\"))\n",
        "\n",
        "ax.set_xticklabels(ax.get_xticklabels(), rotation = 0) \n",
        "\n",
        "plt.title(\"Total hospital internments due COVID19 along 2020/April - 2021/March in each region\")\n",
        "plt.show()"
      ],
      "execution_count": 664,
      "outputs": [
        {
          "output_type": "display_data",
          "data": {
            "image/png": "[encoded data removed]",
            "text/plain": [
              "<Figure size 864x432 with 1 Axes>"
            ]
          },
          "metadata": {
            "tags": [],
            "needs_background": "light"
          }
        }
      ]
    },
    {
      "cell_type": "code",
      "metadata": {
        "id": "0pW2__QR2JGj"
      },
      "source": [
        "\n",
        "ax = .plot(figsize = (12,6),kind='bar')\n",
        "\n",
        "# Draw grid lines with red color and dashed style\n",
        "plt.grid(color='gray', linestyle='-.', linewidth=0.5)\n",
        "\n",
        "# Muda o formato dos números mostrados no eixo y \n",
        "ax.yaxis.set_major_formatter(ticker.StrMethodFormatter(\"{x:,.0f}\"))\n",
        "\n",
        "ax.set_xticklabels(ax.get_xticklabels(), rotation = 0) \n",
        "\n",
        "plt.title(\"Total hospital internments due COVID19 along 2020/April - 2021/March in each region\")\n",
        "plt.show()"
      ],
      "execution_count": null,
      "outputs": []
    },
    {
      "cell_type": "markdown",
      "metadata": {
        "id": "94jPCP4FAKpV"
      },
      "source": [
        "***Analyzing by Regions I can say that the number of hospital internment due COVID19 is proportional to the population estimated (ref:2020) in each region.***"
      ]
    },
    {
      "cell_type": "markdown",
      "metadata": {
        "id": "FTsf_7HYpNiH"
      },
      "source": [
        "### Evolution of the number of hospitalizations due to covid19 in each state, between 2020/Mai and 2021/Mar period"
      ]
    },
    {
      "cell_type": "code",
      "metadata": {
        "colab": {
          "base_uri": "https://localhost:8080/",
          "height": 512
        },
        "id": "BhhUNuYwp-2z",
        "outputId": "78b11c19-d00d-4ca7-808a-5b0e544c806c"
      },
      "source": [
        "ax = growth21_covid19_data_sorted.plot(figsize = (12,6),kind='bar')\n",
        "\n",
        "# Draw grid lines with red color and dashed style\n",
        "plt.grid(color='gray', linestyle='-.', linewidth=0.5)\n",
        "\n",
        "# Muda o formato dos números mostrados no eixo y \n",
        "ax.yaxis.set_major_formatter(ticker.StrMethodFormatter(\"{x:,.0f}\"))\n",
        "\n",
        "ax.set_xticklabels(ax.get_xticklabels()) \n",
        "\n",
        "ax.set_ylabel(\"%\")\n",
        "\n",
        "\n",
        "plt.title(\"Evolution of the number of hospitalizations due to covid19 in each state, between 2020/Mai and 2021/Mar\")\n",
        "plt.show()"
      ],
      "execution_count": 665,
      "outputs": [
        {
          "output_type": "display_data",
          "data": {
            "image/png": "[encoded data removed]",
            "text/plain": [
              "<Figure size 864x432 with 1 Axes>"
            ]
          },
          "metadata": {
            "tags": [],
            "needs_background": "light"
          }
        }
      ]
    },
    {
      "cell_type": "markdown",
      "metadata": {
        "id": "R3iOxBw7q8DH"
      },
      "source": [
        "***Among the five states with the greatest increase in the number of hospitalizations, three (Pará, Maranhão and Amazonas) of them are close geographically.***"
      ]
    },
    {
      "cell_type": "markdown",
      "metadata": {
        "id": "CFBlPbHJtSnV"
      },
      "source": [
        "### Comparing the time evolution of covid19 hospitalizations (Pará, Maranhão e Amazonas)\n"
      ]
    },
    {
      "cell_type": "markdown",
      "metadata": {
        "id": "SMrBcR77z-G1"
      },
      "source": [
        "***I choose those three states to check if they share some peaks during the period of time 2020/Mai and 2021/March. The behavior of the hospitalization is similar among these states, both of them have a peak in 2020/Jun and share the same tendency of increasing.***"
      ]
    },
    {
      "cell_type": "code",
      "metadata": {
        "colab": {
          "base_uri": "https://localhost:8080/",
          "height": 390
        },
        "id": "DEVCHCM7uGxs",
        "outputId": "920e931f-8348-4dce-912e-b83e84fc35db"
      },
      "source": [
        "plotdata = covid19_data.loc[[\"15 Pará\",\"21 Maranhão\",\"13 Amazonas\"],\"2020/Mai\":\"2021/Mar\"]\n",
        "\n",
        "# Create sequence frequency for xticks\n",
        "x_sequence = range(0,len(plotdata.columns),1)\n",
        "\n",
        "ax = plotdata.T.plot(figsize = (12,6), xticks = x_sequence)\n",
        "\n",
        "# Draw grid lines with red color and dashed style\n",
        "plt.grid(color='gray', linestyle='-.', linewidth=0.5)\n",
        "\n",
        "# Muda o formato dos números mostrados no eixo y \n",
        "ax.yaxis.set_major_formatter(ticker.StrMethodFormatter(\"{x:,.0f}\"))\n",
        "\n",
        "plt.title(\"Comparing the time evolution of covid19 hospitalizations number\")\n",
        "plt.show()"
      ],
      "execution_count": 666,
      "outputs": [
        {
          "output_type": "display_data",
          "data": {
            "image/png": "[encoded data removed]",
            "text/plain": [
              "<Figure size 864x432 with 1 Axes>"
            ]
          },
          "metadata": {
            "tags": [],
            "needs_background": "light"
          }
        }
      ]
    }
  ]
}